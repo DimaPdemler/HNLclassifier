{
 "cells": [
  {
   "cell_type": "code",
   "execution_count": 1,
   "metadata": {},
   "outputs": [],
   "source": [
    "import numpy as np\n",
    "import pandas as pd\n",
    "import pickle\n",
    "import torch\n",
    "import torch.nn as nn\n",
    "import os\n",
    "from copy import deepcopy\n",
    "from sklearn.model_selection import train_test_split\n",
    "import matplotlib.pyplot as plt \n",
    "from sklearn.preprocessing import StandardScaler\n",
    "from itertools import permutations\n",
    "import torch.nn.functional as F\n",
    "from tqdm import tqdm\n",
    "import torch.nn as nn\n",
    "from torch.utils.data import Dataset, DataLoader\n"
   ]
  },
  {
   "cell_type": "code",
   "execution_count": 2,
   "metadata": {},
   "outputs": [
    {
     "name": "stdout",
     "output_type": "stream",
     "text": [
      "dict_keys(['event', 'genWeight', 'MET_phi', '1_phi', '1_genPartFlav', '2_phi', '2_genPartFlav', '3_phi', '3_genPartFlav', 'charge_1', 'charge_2', 'charge_3', 'pt_1', 'pt_2', 'pt_3', 'pt_MET', 'eta_1', 'eta_2', 'eta_3', 'mass_1', 'mass_2', 'mass_3', 'deltaphi_12', 'deltaphi_13', 'deltaphi_23', 'deltaphi_1MET', 'deltaphi_2MET', 'deltaphi_3MET', 'deltaphi_1(23)', 'deltaphi_2(13)', 'deltaphi_3(12)', 'deltaphi_MET(12)', 'deltaphi_MET(13)', 'deltaphi_MET(23)', 'deltaphi_1(2MET)', 'deltaphi_1(3MET)', 'deltaphi_2(1MET)', 'deltaphi_2(3MET)', 'deltaphi_3(1MET)', 'deltaphi_3(2MET)', 'deltaeta_12', 'deltaeta_13', 'deltaeta_23', 'deltaeta_1(23)', 'deltaeta_2(13)', 'deltaeta_3(12)', 'deltaR_12', 'deltaR_13', 'deltaR_23', 'deltaR_1(23)', 'deltaR_2(13)', 'deltaR_3(12)', 'pt_123', 'mt_12', 'mt_13', 'mt_23', 'mt_1MET', 'mt_2MET', 'mt_3MET', 'mt_1(23)', 'mt_2(13)', 'mt_3(12)', 'mt_MET(12)', 'mt_MET(13)', 'mt_MET(23)', 'mt_1(2MET)', 'mt_1(3MET)', 'mt_2(1MET)', 'mt_2(3MET)', 'mt_3(1MET)', 'mt_3(2MET)', 'mass_12', 'mass_13', 'mass_23', 'mass_123', 'Mt_tot', 'HNL_CM_angle_with_MET_1', 'HNL_CM_angle_with_MET_2', 'W_CM_angle_to_plane_1', 'W_CM_angle_to_plane_2', 'W_CM_angle_to_plane_with_MET_1', 'W_CM_angle_to_plane_with_MET_2', 'HNL_CM_mass_1', 'HNL_CM_mass_2', 'HNL_CM_mass_with_MET_1', 'HNL_CM_mass_with_MET_2', 'W_CM_angle_12', 'W_CM_angle_13', 'W_CM_angle_23', 'W_CM_angle_1MET', 'W_CM_angle_2MET', 'W_CM_angle_3MET', 'n_tauh', 'norm_mt_1(23)', 'norm_mt_2(13)', 'norm_mt_3(12)', 'norm_mt_MET(12)', 'norm_mt_MET(13)', 'norm_mt_MET(23)', 'norm_mt_1(2MET)', 'norm_mt_1(3MET)', 'norm_mt_2(1MET)', 'norm_mt_2(3MET)', 'norm_mt_3(1MET)', 'norm_mt_3(2MET)', 'norm_mt_12', 'norm_mt_13', 'norm_mt_23'])\n",
      "number of events: 568554\n",
      "dict_keys(['event', 'genWeight', 'MET_phi', '1_phi', '1_genPartFlav', '2_phi', '2_genPartFlav', '3_phi', '3_genPartFlav', 'charge_1', 'charge_2', 'charge_3', 'pt_1', 'pt_2', 'pt_3', 'pt_MET', 'eta_1', 'eta_2', 'eta_3', 'mass_1', 'mass_2', 'mass_3', 'deltaphi_12', 'deltaphi_13', 'deltaphi_23', 'deltaphi_1MET', 'deltaphi_2MET', 'deltaphi_3MET', 'deltaphi_1(23)', 'deltaphi_2(13)', 'deltaphi_3(12)', 'deltaphi_MET(12)', 'deltaphi_MET(13)', 'deltaphi_MET(23)', 'deltaphi_1(2MET)', 'deltaphi_1(3MET)', 'deltaphi_2(1MET)', 'deltaphi_2(3MET)', 'deltaphi_3(1MET)', 'deltaphi_3(2MET)', 'deltaeta_12', 'deltaeta_13', 'deltaeta_23', 'deltaeta_1(23)', 'deltaeta_2(13)', 'deltaeta_3(12)', 'deltaR_12', 'deltaR_13', 'deltaR_23', 'deltaR_1(23)', 'deltaR_2(13)', 'deltaR_3(12)', 'pt_123', 'mt_12', 'mt_13', 'mt_23', 'mt_1MET', 'mt_2MET', 'mt_3MET', 'mt_1(23)', 'mt_2(13)', 'mt_3(12)', 'mt_MET(12)', 'mt_MET(13)', 'mt_MET(23)', 'mt_1(2MET)', 'mt_1(3MET)', 'mt_2(1MET)', 'mt_2(3MET)', 'mt_3(1MET)', 'mt_3(2MET)', 'mass_12', 'mass_13', 'mass_23', 'mass_123', 'Mt_tot', 'HNL_CM_angle_with_MET_1', 'HNL_CM_angle_with_MET_2', 'W_CM_angle_to_plane_1', 'W_CM_angle_to_plane_2', 'W_CM_angle_to_plane_with_MET_1', 'W_CM_angle_to_plane_with_MET_2', 'HNL_CM_mass_1', 'HNL_CM_mass_2', 'HNL_CM_mass_with_MET_1', 'HNL_CM_mass_with_MET_2', 'W_CM_angle_12', 'W_CM_angle_13', 'W_CM_angle_23', 'W_CM_angle_1MET', 'W_CM_angle_2MET', 'W_CM_angle_3MET', 'n_tauh', 'norm_mt_1(23)', 'norm_mt_2(13)', 'norm_mt_3(12)', 'norm_mt_MET(12)', 'norm_mt_MET(13)', 'norm_mt_MET(23)', 'norm_mt_1(2MET)', 'norm_mt_1(3MET)', 'norm_mt_2(1MET)', 'norm_mt_2(3MET)', 'norm_mt_3(1MET)', 'norm_mt_3(2MET)', 'norm_mt_12', 'norm_mt_13', 'norm_mt_23'])\n"
     ]
    }
   ],
   "source": [
    "#load data\n",
    "base_path = os.path.dirname(os.getcwd())\n",
    "\n",
    "full_folder_path = os.path.join(base_path,\"saved_files\", \"fake_data\")\n",
    "# data_df=pd.read_pickle(os.path.join(full_folder_path,\"Aug7_1mil.pkl\"))\n",
    "with open(os.path.join(full_folder_path,\"Aug7_1mil.pkl\"), 'rb') as f:\n",
    "    clean_data_dict = pickle.load(f)\n",
    "print(clean_data_dict.keys())\n",
    "numevents=len(clean_data_dict['2_phi'])\n",
    "print(\"number of events:\",numevents)\n",
    "\n",
    "data_dict=clean_data_dict\n",
    "print(data_dict.keys())\n",
    "\n",
    "data_dict_np={}\n",
    "for key in data_dict.keys():\n",
    "    data_dict_np[key]=np.array(data_dict[key])"
   ]
  },
  {
   "cell_type": "code",
   "execution_count": 3,
   "metadata": {},
   "outputs": [
    {
     "name": "stdout",
     "output_type": "stream",
     "text": [
      "events, particles, input features:  (568554, 3, 5)\n",
      "events, particle pairs, output kin. features:  (568554, 3, 5)\n",
      "lepton pair order:  ['1_2', '1_3', '2_3']\n",
      "lepton particle order:  ['1', '2', '3']\n"
     ]
    }
   ],
   "source": [
    "input_data_names_ordered = [\n",
    "    ['MET_phi', 'pt_MET'], \n",
    "    ['1_phi', 'charge_1', 'pt_1', 'eta_1', 'mass_1'], \n",
    "    ['2_phi', 'charge_2', 'pt_2', 'eta_2', 'mass_2'], \n",
    "    ['3_phi', 'charge_3', 'pt_3', 'eta_3', 'mass_3']\n",
    "]\n",
    "input_data_particle_order = ['MET', '1', '2', '3']\n",
    "\n",
    "pair_order = [\"MET_1\", \"MET_2\", \"MET_3\", \"1_2\", \"1_3\", \"2_3\"]\n",
    "used_labels2 = [\n",
    "    ['deltaphi_1MET', 'mt_1MET'], \n",
    "    ['deltaphi_2MET', 'mt_2MET'], \n",
    "    ['deltaphi_3MET', 'mt_3MET'], \n",
    "    ['deltaphi_12', 'deltaeta_12', 'deltaR_12', 'mt_12', 'norm_mt_12'], \n",
    "    ['deltaphi_13', 'deltaeta_13', 'deltaR_13', 'mt_13', 'norm_mt_13'], \n",
    "    ['deltaphi_23', 'deltaeta_23', 'deltaR_23', 'mt_23', 'norm_mt_23']\n",
    "]\n",
    "\n",
    "lepton_input_ordered = input_data_names_ordered[1:]\n",
    "lepton_output_ordered = used_labels2[3:]\n",
    "\n",
    "l_input_shape=(numevents,len(lepton_input_ordered), len(lepton_input_ordered[0]))\n",
    "print(\"events, particles, input features: \",l_input_shape)\n",
    "l_input= np.empty(l_input_shape)\n",
    "\n",
    "for i in range(len(lepton_input_ordered)):\n",
    "    for j, feature in enumerate(lepton_input_ordered[i]):\n",
    "        l_input[:,i,j] = data_dict_np[feature]\n",
    "\n",
    "l_output_shape=(numevents, len(lepton_output_ordered), len(lepton_output_ordered[0]))\n",
    "print(\"events, particle pairs, output kin. features: \",l_output_shape)\n",
    "l_output= np.empty(l_output_shape)\n",
    "\n",
    "for i in range(len(lepton_output_ordered)):\n",
    "    for j, feature in enumerate(lepton_output_ordered[i]):\n",
    "        l_output[:,i,j] = data_dict_np[feature]\n",
    "\n",
    "lepton_pair_order = pair_order[3:]\n",
    "lepton_particle_order = input_data_particle_order[1:]\n",
    "print(\"lepton pair order: \", lepton_pair_order)\n",
    "print(\"lepton particle order: \", lepton_particle_order)"
   ]
  },
  {
   "cell_type": "markdown",
   "metadata": {},
   "source": [
    "## normalizing ##"
   ]
  },
  {
   "cell_type": "code",
   "execution_count": 4,
   "metadata": {},
   "outputs": [
    {
     "name": "stdout",
     "output_type": "stream",
     "text": [
      "normalized input shape: (568554, 3, 5)\n",
      "normalized output shape: (568554, 3, 5)\n"
     ]
    }
   ],
   "source": [
    "def normalize_l(data):\n",
    "    # l_input_reshaped=l_input.reshape(l_input.shape[0], -1)\n",
    "    # print(\"input reshaped shape:\",l_input_reshaped.shape)\n",
    "    # scaler = StandardScaler()\n",
    "    # data_normalized = scaler.fit_transform(l_input_reshaped)\n",
    "\n",
    "    means = data.mean(axis=(0))\n",
    "    stds = data.std(axis=(0))\n",
    "    # print(\"means shape:\",means.shape)\n",
    "\n",
    "    data_normalized = (data - means) / (stds + 1e-10)\n",
    "    return data_normalized, means, stds\n",
    "\n",
    "n_l_input, _, _ = normalize_l(l_input)\n",
    "print(\"normalized input shape:\",n_l_input.shape)\n",
    "\n",
    "\n",
    "n_l_output, l_output_means, l_output_stds = normalize_l(l_output)\n",
    "print(\"normalized output shape:\",n_l_output.shape)\n",
    "\n",
    "def invert_normalize(data_normalized, means, stds):\n",
    "    return (data_normalized * stds) + means\n",
    "\n"
   ]
  },
  {
   "cell_type": "code",
   "execution_count": 5,
   "metadata": {},
   "outputs": [
    {
     "name": "stdout",
     "output_type": "stream",
     "text": [
      "3 3\n",
      "torch.Size([568554, 10]) torch.Size([568554, 5])\n"
     ]
    }
   ],
   "source": [
    "linput_tensor = torch.tensor(n_l_input, dtype=torch.float32)\n",
    "llabel_tensor = torch.tensor(n_l_output, dtype=torch.float32)\n",
    "\n",
    "lpairs_data=[]\n",
    "lpairs_labels=[]\n",
    "\n",
    "# lepton_pair_order = ['1_2', '1_3', '2_3']\n",
    "lepton_pair_mapping={(0,1): lepton_pair_order.index('1_2'), (0,2): lepton_pair_order.index('1_3'), (1,2): lepton_pair_order.index('2_3')}\n",
    "\n",
    "for key, value in lepton_pair_mapping.items():\n",
    "    concatonated_data=torch.cat((linput_tensor[:,key[0],:], linput_tensor[:,key[1],:]), dim=1)\n",
    "    lpairs_data.append(concatonated_data)\n",
    "\n",
    "    lpairs_labels.append(llabel_tensor[:,value,:])\n",
    "\n",
    "print(len(lpairs_data), len(lpairs_labels))\n",
    "print(lpairs_data[0].shape, lpairs_labels[0].shape)"
   ]
  },
  {
   "cell_type": "code",
   "execution_count": 6,
   "metadata": {},
   "outputs": [],
   "source": [
    "train_data_list = []\n",
    "val_data_list = []\n",
    "test_data_list = []\n",
    "train_labels_list = []\n",
    "val_labels_list = []\n",
    "test_labels_list = []\n",
    "\n",
    "for pair_idx in range(len(lpairs_data)):\n",
    "    pair_data = lpairs_data[pair_idx]\n",
    "    pair_labels = lpairs_labels[pair_idx]\n",
    "\n",
    "    train_val_data, test_data, train_val_labels, test_labels = train_test_split(pair_data, pair_labels, test_size=0.2, random_state=42)\n",
    "    train_data, val_data, train_labels, val_labels = train_test_split(train_val_data, train_val_labels, test_size=0.2, random_state=42)\n",
    "\n",
    "    train_data_list.append(train_data)\n",
    "    val_data_list.append(val_data)\n",
    "    test_data_list.append(test_data)\n",
    "    train_labels_list.append(train_labels)\n",
    "    val_labels_list.append(val_labels)\n",
    "    test_labels_list.append(test_labels)"
   ]
  },
  {
   "cell_type": "code",
   "execution_count": 7,
   "metadata": {},
   "outputs": [
    {
     "name": "stdout",
     "output_type": "stream",
     "text": [
      "cuda:0\n"
     ]
    },
    {
     "data": {
      "text/plain": [
       "KinematicNet(\n",
       "  (fc1): Linear(in_features=10, out_features=128, bias=True)\n",
       "  (fc2): Linear(in_features=128, out_features=200, bias=True)\n",
       "  (fc3): Linear(in_features=200, out_features=128, bias=True)\n",
       "  (fc4): Linear(in_features=128, out_features=5, bias=True)\n",
       ")"
      ]
     },
     "execution_count": 7,
     "metadata": {},
     "output_type": "execute_result"
    }
   ],
   "source": [
    "device = torch.device(\"cuda:0\" if torch.cuda.is_available() else \"cpu\")\n",
    "print(device)\n",
    "\n",
    "class KinematicNet(nn.Module):\n",
    "    def __init__(self):\n",
    "        super(KinematicNet, self).__init__()\n",
    "        self.fc1 = nn.Linear(10, 128)\n",
    "        self.fc2 = nn.Linear(128, 200)\n",
    "        self.fc3 = nn.Linear(200, 128)\n",
    "        self.fc4 = nn.Linear(128, 5)\n",
    "        \n",
    "    def forward(self, x):\n",
    "        x = F.relu(self.fc1(x))\n",
    "        x = F.relu(self.fc2(x))\n",
    "        x = F.relu(self.fc3(x))\n",
    "        return self.fc4(x)\n",
    "\n",
    "model = KinematicNet()\n",
    "model.to(device)\n",
    "\n"
   ]
  },
  {
   "cell_type": "code",
   "execution_count": 8,
   "metadata": {},
   "outputs": [],
   "source": [
    "import torch\n",
    "import torch.nn as nn\n",
    "import numpy as np\n",
    "\n",
    "def train_one_epoch(model, train_data_list, train_labels_list, optimizer, loss_fn, device):\n",
    "    model.train()\n",
    "    total_train_loss = 0\n",
    "\n",
    "    for pair_idx in range(len(train_data_list)):\n",
    "        train_data = train_data_list[pair_idx].to(device)\n",
    "        train_label = train_labels_list[pair_idx].to(device)\n",
    "\n",
    "        y_pred = model(train_data)\n",
    "        loss = loss_fn(y_pred, train_label)\n",
    "        total_train_loss += loss.item()\n",
    "\n",
    "        optimizer.zero_grad()\n",
    "        loss.backward()\n",
    "        optimizer.step()\n",
    "\n",
    "    avg_train_loss = total_train_loss / len(train_data_list)\n",
    "    return avg_train_loss\n",
    "\n",
    "def validate_model(model, val_data_list, val_labels_list, loss_fn, device):\n",
    "    model.eval()\n",
    "    total_val_loss = 0\n",
    "\n",
    "    with torch.no_grad():\n",
    "        for pair_idx in range(len(val_data_list)):\n",
    "            val_data = val_data_list[pair_idx].to(device)\n",
    "            val_label = val_labels_list[pair_idx].to(device)\n",
    "\n",
    "            y_pred = model(val_data)\n",
    "            loss = loss_fn(y_pred, val_label)\n",
    "            total_val_loss += loss.item()\n",
    "\n",
    "    avg_val_loss = total_val_loss / len(val_data_list)\n",
    "    return avg_val_loss\n",
    "\n",
    "def test_model(model, test_data_list, test_labels_list, loss_fn, device):\n",
    "    model.eval()\n",
    "    total_test_loss = 0\n",
    "\n",
    "    with torch.no_grad():\n",
    "        for pair_idx in range(len(test_data_list)):\n",
    "            test_data = test_data_list[pair_idx].to(device)\n",
    "            test_label = test_labels_list[pair_idx].to(device)\n",
    "\n",
    "            y_pred = model(test_data)\n",
    "            loss = loss_fn(y_pred, test_label)\n",
    "            total_test_loss += loss.item()\n",
    "\n",
    "    avg_test_loss = total_test_loss / len(test_data_list)\n",
    "    return avg_test_loss\n",
    "\n",
    "def main_training_loop(model, num_epochs, train_data_list, train_labels_list, val_data_list, val_labels_list, optimizer, loss_fn, device, early_stop_patience):\n",
    "    epochs_no_improve = 0\n",
    "    min_val_loss = np.Inf\n",
    "\n",
    "    for epoch in range(num_epochs):\n",
    "        train_loss = train_one_epoch(model, train_data_list, train_labels_list, optimizer, loss_fn, device)\n",
    "        val_loss = validate_model(model, val_data_list, val_labels_list, loss_fn, device)\n",
    "\n",
    "        if val_loss < min_val_loss:\n",
    "            epochs_no_improve = 0\n",
    "            min_val_loss = val_loss\n",
    "            saved_model = model.state_dict()\n",
    "            # torch.save(model.state_dict(), 'fnn_FeatureRegression/fnn_try4.pt')\n",
    "        else:\n",
    "            epochs_no_improve += 1\n",
    "            if epochs_no_improve == early_stop_patience:\n",
    "                print('Early stopping!')\n",
    "                return saved_model\n",
    "        if (epoch +1) % 10 == 0:\n",
    "            test_loss = test_model(model, test_data_list, test_labels_list, loss_fn, device)\n",
    "            print(f\"Epoch [{epoch + 1}/{num_epochs}], Train Loss: {train_loss*1000:.4f}, Val Loss: {val_loss*1000:.4f}, Test Loss: {test_loss*1000:.4f}\")\n",
    "\n",
    "        # print(f\"Epoch [{epoch + 1}/{num_epochs}], Train Loss: {train_loss*100:.4f}, Val Loss: {val_loss*100:.4f}\")\n",
    "\n"
   ]
  },
  {
   "cell_type": "code",
   "execution_count": 9,
   "metadata": {},
   "outputs": [
    {
     "name": "stdout",
     "output_type": "stream",
     "text": [
      "Epoch [10/100000], Train Loss: 366.5866, Val Loss: 344.9713, Test Loss: 346.5167\n",
      "Epoch [20/100000], Train Loss: 108.6534, Val Loss: 93.9820, Test Loss: 95.3422\n",
      "Epoch [30/100000], Train Loss: 49.0973, Val Loss: 49.1626, Test Loss: 49.7926\n",
      "Epoch [40/100000], Train Loss: 24.1426, Val Loss: 23.6693, Test Loss: 24.0470\n",
      "Epoch [50/100000], Train Loss: 17.3591, Val Loss: 16.5917, Test Loss: 16.8945\n",
      "Epoch [60/100000], Train Loss: 14.2027, Val Loss: 13.5335, Test Loss: 13.7955\n",
      "Epoch [70/100000], Train Loss: 12.4502, Val Loss: 11.7822, Test Loss: 12.0109\n",
      "Epoch [80/100000], Train Loss: 11.4060, Val Loss: 10.8009, Test Loss: 11.0013\n",
      "Epoch [90/100000], Train Loss: 10.5836, Val Loss: 10.0793, Test Loss: 10.2597\n",
      "Epoch [100/100000], Train Loss: 9.7849, Val Loss: 9.3557, Test Loss: 9.5199\n",
      "Epoch [110/100000], Train Loss: 9.0307, Val Loss: 8.6525, Test Loss: 8.8013\n",
      "Epoch [120/100000], Train Loss: 8.3164, Val Loss: 7.9751, Test Loss: 8.1079\n",
      "Epoch [130/100000], Train Loss: 7.6402, Val Loss: 7.3123, Test Loss: 7.4305\n",
      "Epoch [140/100000], Train Loss: 7.0364, Val Loss: 6.7166, Test Loss: 6.8200\n",
      "Epoch [150/100000], Train Loss: 6.5050, Val Loss: 6.1923, Test Loss: 6.2819\n",
      "Epoch [160/100000], Train Loss: 6.0459, Val Loss: 5.7468, Test Loss: 5.8246\n",
      "Epoch [170/100000], Train Loss: 5.6387, Val Loss: 5.3558, Test Loss: 5.4230\n",
      "Epoch [180/100000], Train Loss: 5.2848, Val Loss: 5.0174, Test Loss: 5.0770\n",
      "Epoch [190/100000], Train Loss: 4.9762, Val Loss: 4.7215, Test Loss: 4.7758\n",
      "Epoch [200/100000], Train Loss: 4.7064, Val Loss: 4.4638, Test Loss: 4.5136\n",
      "Epoch [210/100000], Train Loss: 4.4749, Val Loss: 4.2411, Test Loss: 4.2869\n",
      "Epoch [220/100000], Train Loss: 4.2652, Val Loss: 4.0393, Test Loss: 4.0814\n",
      "Epoch [230/100000], Train Loss: 4.0815, Val Loss: 3.8636, Test Loss: 3.9026\n",
      "Epoch [240/100000], Train Loss: 3.9190, Val Loss: 3.7074, Test Loss: 3.7436\n",
      "Epoch [250/100000], Train Loss: 3.7751, Val Loss: 3.5699, Test Loss: 3.6036\n",
      "Epoch [260/100000], Train Loss: 3.6450, Val Loss: 3.4449, Test Loss: 3.4762\n",
      "Epoch [270/100000], Train Loss: 3.5253, Val Loss: 3.3291, Test Loss: 3.3583\n",
      "Epoch [280/100000], Train Loss: 3.4179, Val Loss: 3.2253, Test Loss: 3.2524\n",
      "Epoch [290/100000], Train Loss: 3.3214, Val Loss: 3.1309, Test Loss: 3.1562\n",
      "Epoch [300/100000], Train Loss: 3.2325, Val Loss: 3.0450, Test Loss: 3.0689\n",
      "Epoch [310/100000], Train Loss: 3.1463, Val Loss: 2.9593, Test Loss: 2.9821\n",
      "Epoch [320/100000], Train Loss: 3.0711, Val Loss: 2.8859, Test Loss: 2.9077\n",
      "Epoch [330/100000], Train Loss: 3.0007, Val Loss: 2.8161, Test Loss: 2.8369\n",
      "Epoch [340/100000], Train Loss: 2.9350, Val Loss: 2.7510, Test Loss: 2.7709\n",
      "Epoch [350/100000], Train Loss: 2.8732, Val Loss: 2.6897, Test Loss: 2.7090\n",
      "Epoch [360/100000], Train Loss: 2.8166, Val Loss: 2.6330, Test Loss: 2.6516\n",
      "Epoch [370/100000], Train Loss: 2.7612, Val Loss: 2.5768, Test Loss: 2.5949\n",
      "Epoch [380/100000], Train Loss: 2.7078, Val Loss: 2.5220, Test Loss: 2.5399\n",
      "Epoch [390/100000], Train Loss: 2.6592, Val Loss: 2.4745, Test Loss: 2.4920\n",
      "Epoch [400/100000], Train Loss: 2.6128, Val Loss: 2.4282, Test Loss: 2.4453\n",
      "Epoch [410/100000], Train Loss: 2.5690, Val Loss: 2.3838, Test Loss: 2.4008\n",
      "Epoch [420/100000], Train Loss: 2.5268, Val Loss: 2.3408, Test Loss: 2.3576\n",
      "Epoch [430/100000], Train Loss: 2.4868, Val Loss: 2.3012, Test Loss: 2.3180\n",
      "Epoch [440/100000], Train Loss: 2.4491, Val Loss: 2.2634, Test Loss: 2.2799\n",
      "Epoch [450/100000], Train Loss: 2.4127, Val Loss: 2.2272, Test Loss: 2.2435\n",
      "Epoch [460/100000], Train Loss: 2.3782, Val Loss: 2.1920, Test Loss: 2.2080\n",
      "Epoch [470/100000], Train Loss: 2.3432, Val Loss: 2.1562, Test Loss: 2.1719\n",
      "Epoch [480/100000], Train Loss: 2.3107, Val Loss: 2.1236, Test Loss: 2.1389\n",
      "Epoch [490/100000], Train Loss: 2.2774, Val Loss: 2.0887, Test Loss: 2.1036\n",
      "Epoch [500/100000], Train Loss: 2.2480, Val Loss: 2.0598, Test Loss: 2.0745\n",
      "Epoch [510/100000], Train Loss: 2.2212, Val Loss: 2.0334, Test Loss: 2.0480\n",
      "Epoch [520/100000], Train Loss: 2.1945, Val Loss: 2.0059, Test Loss: 2.0203\n",
      "Epoch [530/100000], Train Loss: 2.1694, Val Loss: 1.9816, Test Loss: 1.9958\n",
      "Epoch [540/100000], Train Loss: 2.1458, Val Loss: 1.9575, Test Loss: 1.9715\n",
      "Epoch [550/100000], Train Loss: 2.1212, Val Loss: 1.9318, Test Loss: 1.9456\n",
      "Epoch [560/100000], Train Loss: 2.0988, Val Loss: 1.9092, Test Loss: 1.9228\n",
      "Epoch [570/100000], Train Loss: 2.0755, Val Loss: 1.8850, Test Loss: 1.8985\n",
      "Epoch [580/100000], Train Loss: 2.0538, Val Loss: 1.8633, Test Loss: 1.8766\n",
      "Epoch [590/100000], Train Loss: 2.0331, Val Loss: 1.8418, Test Loss: 1.8549\n",
      "Epoch [600/100000], Train Loss: 2.0133, Val Loss: 1.8207, Test Loss: 1.8337\n",
      "Epoch [610/100000], Train Loss: 1.9946, Val Loss: 1.8021, Test Loss: 1.8149\n",
      "Epoch [620/100000], Train Loss: 1.9772, Val Loss: 1.7845, Test Loss: 1.7971\n",
      "Epoch [630/100000], Train Loss: 1.9592, Val Loss: 1.7661, Test Loss: 1.7787\n",
      "Epoch [640/100000], Train Loss: 1.9432, Val Loss: 1.7507, Test Loss: 1.7633\n",
      "Epoch [650/100000], Train Loss: 1.9281, Val Loss: 1.7361, Test Loss: 1.7487\n",
      "Epoch [660/100000], Train Loss: 1.9127, Val Loss: 1.7212, Test Loss: 1.7337\n",
      "Epoch [670/100000], Train Loss: 1.8993, Val Loss: 1.7089, Test Loss: 1.7214\n",
      "Epoch [680/100000], Train Loss: 1.8856, Val Loss: 1.6954, Test Loss: 1.7078\n",
      "Epoch [690/100000], Train Loss: 1.8725, Val Loss: 1.6819, Test Loss: 1.6942\n",
      "Epoch [700/100000], Train Loss: 1.8578, Val Loss: 1.6652, Test Loss: 1.6775\n",
      "Epoch [710/100000], Train Loss: 1.8441, Val Loss: 1.6494, Test Loss: 1.6617\n",
      "Epoch [720/100000], Train Loss: 1.8303, Val Loss: 1.6333, Test Loss: 1.6455\n",
      "Epoch [730/100000], Train Loss: 1.8163, Val Loss: 1.6162, Test Loss: 1.6284\n",
      "Epoch [740/100000], Train Loss: 1.8027, Val Loss: 1.5992, Test Loss: 1.6114\n",
      "Epoch [750/100000], Train Loss: 1.7887, Val Loss: 1.5811, Test Loss: 1.5934\n",
      "Epoch [760/100000], Train Loss: 1.7748, Val Loss: 1.5630, Test Loss: 1.5753\n",
      "Epoch [770/100000], Train Loss: 1.7604, Val Loss: 1.5443, Test Loss: 1.5566\n",
      "Epoch [780/100000], Train Loss: 1.7453, Val Loss: 1.5242, Test Loss: 1.5366\n",
      "Epoch [790/100000], Train Loss: 1.7298, Val Loss: 1.5032, Test Loss: 1.5156\n",
      "Epoch [800/100000], Train Loss: 1.7137, Val Loss: 1.4812, Test Loss: 1.4937\n",
      "Epoch [810/100000], Train Loss: 1.6974, Val Loss: 1.4588, Test Loss: 1.4713\n",
      "Epoch [820/100000], Train Loss: 1.6802, Val Loss: 1.4347, Test Loss: 1.4471\n",
      "Epoch [830/100000], Train Loss: 1.6616, Val Loss: 1.4083, Test Loss: 1.4208\n",
      "Epoch [840/100000], Train Loss: 1.6420, Val Loss: 1.3801, Test Loss: 1.3925\n",
      "Epoch [850/100000], Train Loss: 1.6212, Val Loss: 1.3495, Test Loss: 1.3619\n",
      "Epoch [860/100000], Train Loss: 1.5993, Val Loss: 1.3168, Test Loss: 1.3292\n",
      "Epoch [870/100000], Train Loss: 1.5755, Val Loss: 1.2807, Test Loss: 1.2932\n",
      "Epoch [880/100000], Train Loss: 1.5506, Val Loss: 1.2425, Test Loss: 1.2552\n",
      "Epoch [890/100000], Train Loss: 1.5258, Val Loss: 1.2030, Test Loss: 1.2158\n",
      "Epoch [900/100000], Train Loss: 1.5022, Val Loss: 1.1636, Test Loss: 1.1766\n",
      "Epoch [910/100000], Train Loss: 1.4818, Val Loss: 1.1258, Test Loss: 1.1390\n",
      "Epoch [920/100000], Train Loss: 1.4658, Val Loss: 1.0902, Test Loss: 1.1033\n",
      "Epoch [930/100000], Train Loss: 1.4569, Val Loss: 1.0594, Test Loss: 1.0725\n",
      "Epoch [940/100000], Train Loss: 1.4573, Val Loss: 1.0339, Test Loss: 1.0468\n",
      "Epoch [950/100000], Train Loss: 1.4693, Val Loss: 1.0127, Test Loss: 1.0254\n",
      "Epoch [960/100000], Train Loss: 1.4975, Val Loss: 0.9928, Test Loss: 1.0050\n",
      "Epoch [970/100000], Train Loss: 1.5538, Val Loss: 0.9682, Test Loss: 0.9798\n",
      "Epoch [980/100000], Train Loss: 1.6740, Val Loss: 0.9453, Test Loss: 0.9560\n",
      "Epoch [990/100000], Train Loss: 2.0278, Val Loss: 1.1745, Test Loss: 1.1834\n",
      "Early stopping!\n"
     ]
    }
   ],
   "source": [
    "\n",
    "num_epochs = 100000\n",
    "early_stop_patience = 20\n",
    "optimizer = torch.optim.Adam(model.parameters(), lr=0.003)\n",
    "loss_fn = nn.MSELoss()\n",
    "device = torch.device('cuda' if torch.cuda.is_available() else 'cpu')\n",
    "model.to(device)\n",
    "\n",
    "saved_model_dict= main_training_loop(model, num_epochs, train_data_list, train_labels_list, val_data_list, val_labels_list, optimizer, loss_fn, device, early_stop_patience)\n"
   ]
  },
  {
   "cell_type": "code",
   "execution_count": 10,
   "metadata": {},
   "outputs": [
    {
     "name": "stdout",
     "output_type": "stream",
     "text": [
      "Test loss of saved model:  6.383184964458148\n"
     ]
    }
   ],
   "source": [
    "saved_model = KinematicNet()\n",
    "saved_model.load_state_dict(saved_model_dict)\n",
    "saved_model.to(device)\n",
    "\n",
    "\n",
    "test_loss = test_model(saved_model, test_data_list, test_labels_list, loss_fn, device)\n",
    "print(\"Test loss of saved model: \", test_loss*1000)\n"
   ]
  },
  {
   "cell_type": "code",
   "execution_count": 17,
   "metadata": {},
   "outputs": [
    {
     "name": "stderr",
     "output_type": "stream",
     "text": [
      "                                                      \r"
     ]
    },
    {
     "data": {
      "image/png": "[encoded data removed]",
      "text/plain": [
       "<Figure size 1500x500 with 5 Axes>"
      ]
     },
     "metadata": {},
     "output_type": "display_data"
    }
   ],
   "source": [
    "saved_model = KinematicNet()\n",
    "saved_model.load_state_dict(saved_model_dict)\n",
    "saved_model.to(device)\n",
    "saved_model.eval()\n",
    "# ['deltaphi_12', 'deltaeta_12', 'deltaR_12', 'mt_12', 'norm_mt_12']\n",
    "out_feats=['deltaphi', 'deltaeta', 'deltaR', 'mt', 'norm_mt']\n",
    "num_features = n_l_output.shape[2]\n",
    "residuals = [[] for _ in range(num_features)]\n",
    "\n",
    "with torch.no_grad():\n",
    "    for pair_idx in tqdm(range(len(test_data_list)), desc='Testing', leave=False):\n",
    "        test_data = test_data_list[pair_idx].to(device)\n",
    "        test_label = test_labels_list[pair_idx].numpy()  # Convert tensor to numpy\n",
    "        \n",
    "        y_pred = saved_model(test_data).cpu().numpy()  # Convert tensor to numpy\n",
    "        y_pred_inverted = invert_normalize(y_pred, l_output_means[pair_idx, :], l_output_stds[pair_idx, :])\n",
    "        test_label_inverted = invert_normalize(test_label, l_output_means[pair_idx, :], l_output_stds[pair_idx, :])\n",
    "        \n",
    "        residuals_pair = y_pred_inverted - test_label_inverted\n",
    "        \n",
    "        for i in range(num_features):\n",
    "            residuals[i].extend(residuals_pair[:, i])\n",
    "\n",
    "residuals = [np.array(res_list) for res_list in residuals]  # Convert lists of arrays to arrays\n",
    "\n",
    "fig, axes = plt.subplots(nrows=1, ncols=num_features, figsize=(15, 5))\n",
    "for i, ax in enumerate(axes):\n",
    "    ax.hist(residuals[i], bins=50, edgecolor='k', alpha=0.65)\n",
    "    ax.set_title(f'Residuals for {out_feats[i]}')\n",
    "    ax.set_xlabel('Residual Value')\n",
    "    ax.set_ylabel('Frequency')\n",
    "plt.tight_layout()\n",
    "plt.show()\n",
    "\n",
    "\n",
    "        \n",
    "\n",
    "\n",
    "\n"
   ]
  }
 ],
 "metadata": {
  "kernelspec": {
   "display_name": "Python 3",
   "language": "python",
   "name": "python3"
  },
  "language_info": {
   "codemirror_mode": {
    "name": "ipython",
    "version": 3
   },
   "file_extension": ".py",
   "mimetype": "text/x-python",
   "name": "python",
   "nbconvert_exporter": "python",
   "pygments_lexer": "ipython3",
   "version": "3.8.16"
  },
  "orig_nbformat": 4
 },
 "nbformat": 4,
 "nbformat_minor": 2
}
