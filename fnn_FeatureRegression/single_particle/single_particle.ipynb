{
 "cells": [
  {
   "cell_type": "code",
   "execution_count": 1,
   "metadata": {},
   "outputs": [],
   "source": [
    "import numpy as np\n",
    "import sys\n",
    "import os\n",
    "import vector\n",
    "import torch\n",
    "from torch.utils.data import Dataset, DataLoader\n",
    "import torch.nn as nn\n",
    "import torch.nn.functional as F\n",
    "import pandas as pd\n",
    "\n",
    "\n",
    "sys.path.append('../../utils/')\n",
    "from DD_data_extractor_git import generate_random_data\n",
    "\n"
   ]
  },
  {
   "cell_type": "code",
   "execution_count": 2,
   "metadata": {},
   "outputs": [],
   "source": [
    "class FakeParticleDataset(Dataset):\n",
    "\n",
    "\n",
    "    def __len__(self):\n",
    "        return 10000\n",
    "    \n",
    "    def __getitem__(self, idx):\n",
    "        phi, eta, mass, pt = self.generate_input_data()\n",
    "        px, py, pz, energy = self.generate_output_data(phi, eta, mass, pt)\n",
    "        \n",
    "        input_tensor = torch.tensor([phi, eta, mass, pt], dtype=torch.float32)\n",
    "        output_tensor = torch.tensor([px, py, pz, energy], dtype=torch.float32)\n",
    "        \n",
    "        return input_tensor, output_tensor\n",
    "\n",
    "    \n",
    "    def generate_input_data(self):\n",
    "        eta_low, eta_high = -2.5, 2.5\n",
    "        mass_low, mass_high = 0, 11\n",
    "        phi_low, phi_high = -np.pi, np.pi\n",
    "        pt_low, pt_high = 0, 1000\n",
    "\n",
    "        eta= np.random.uniform(eta_low, eta_high)\n",
    "        mass = np.random.uniform(mass_low, mass_high)\n",
    "        phi = np.random.uniform(phi_low, phi_high)\n",
    "        pt = np.random.uniform(pt_low, pt_high)\n",
    "\n",
    "        return phi, eta, mass, pt\n",
    "    \n",
    "    def generate_output_data(self, phi, eta, mass, pt):\n",
    "        particle=vector.obj(pt=pt, phi=phi, eta=eta, mass=mass)\n",
    "\n",
    "        px = particle.px\n",
    "        py = particle.py\n",
    "        pz = particle.pz\n",
    "        energy = particle.e\n",
    "\n",
    "        return px, py, pz, energy\n",
    "\n",
    "def worker_init_fn(worker_id):\n",
    "    numpy_seed = int(torch.initial_seed()) % (2**32 - 1)\n",
    "    np.random.seed(numpy_seed + worker_id)"
   ]
  },
  {
   "cell_type": "code",
   "execution_count": 3,
   "metadata": {},
   "outputs": [],
   "source": [
    "dataset= FakeParticleDataset()\n",
    "train_loader = DataLoader(dataset, batch_size=320, shuffle=True, num_workers=4, worker_init_fn=worker_init_fn)\n",
    "input_dim,output_dim=4,4"
   ]
  },
  {
   "cell_type": "code",
   "execution_count": 4,
   "metadata": {},
   "outputs": [
    {
     "data": {
      "text/plain": [
       "CustomKinematicNet(\n",
       "  (layers): ModuleList(\n",
       "    (0): Linear(in_features=4, out_features=16, bias=True)\n",
       "    (1-9): 9 x Linear(in_features=16, out_features=16, bias=True)\n",
       "    (10): Linear(in_features=16, out_features=4, bias=True)\n",
       "  )\n",
       ")"
      ]
     },
     "execution_count": 4,
     "metadata": {},
     "output_type": "execute_result"
    }
   ],
   "source": [
    "class CustomKinematicNet(nn.Module):\n",
    "    def __init__(self, input_size, hidden_layers, lenoutput, activation_fn=F.relu):\n",
    "        \n",
    "        super(CustomKinematicNet, self).__init__()\n",
    "        \n",
    "        # Create the list of layers\n",
    "        layers = [nn.Linear(input_size, hidden_layers[0])]\n",
    "        for i in range(len(hidden_layers) - 1):\n",
    "            layers.append(nn.Linear(hidden_layers[i], hidden_layers[i + 1]))\n",
    "        layers.append(nn.Linear(hidden_layers[-1], lenoutput))\n",
    "        \n",
    "        self.layers = nn.ModuleList(layers)\n",
    "        self.activation_fn = activation_fn\n",
    "        \n",
    "    def forward(self, x):\n",
    "        for layer in self.layers[:-1]:\n",
    "            x = self.activation_fn(layer(x))\n",
    "        return self.layers[-1](x)\n",
    "\n",
    "def custom_loss(y_pred, y_true):\n",
    "    # print(\"y_pred:\", y_pred.shape)\n",
    "    se_loss = (y_pred - y_true) ** 2\n",
    "    MSE_loss = torch.zeros_like(se_loss)  # Initialize with zeros\n",
    "    \n",
    "    num_features = int(output_dim)\n",
    "    loss_list = []\n",
    "\n",
    "    for i in range(num_features):\n",
    "    \n",
    "        RMSE = ((y_pred[:, i] - y_true[:, i]) / y_true[:, i]) ** 2\n",
    "        mask = (y_true[:, i] > 1)\n",
    "        \n",
    "        RMSE_meanloss = torch.mean(RMSE[mask])\n",
    "        MSE_meanloss = torch.mean(se_loss[:, i][~mask])\n",
    "\n",
    "        # Weighted contribution of the RMSE for the masked values to the final loss tensor\n",
    "        MSE_loss[:, i] = RMSE * mask.float()\n",
    "\n",
    "        loss_list.append(MSE_meanloss.item())\n",
    "        loss_list.append(RMSE_meanloss.item())\n",
    "        \n",
    "    full_loss = torch.mean(MSE_loss)  # Calculate the final average loss\n",
    "    return loss_list, full_loss\n",
    "\n",
    "\n",
    "hidden_layers = [16 for i in range(10)]\n",
    "model = CustomKinematicNet(input_dim, hidden_layers, output_dim, activation_fn=F.tanh)\n",
    "optimizer = torch.optim.AdamW(model.parameters(), lr=0.001)\n",
    "device = torch.device(\"cuda:0\" if torch.cuda.is_available() else \"cpu\")\n",
    "model.to(device)"
   ]
  },
  {
   "cell_type": "code",
   "execution_count": 11,
   "metadata": {},
   "outputs": [
    {
     "name": "stdout",
     "output_type": "stream",
     "text": [
      "Epoch: 0, Loss: 1.6880e+01, px_MSE: 102224.562, px_RMSE: 0.898, py_MSE: 175362.344, py_RMSE: 0.871, pz_MSE: 1334764.125, pz_RMSE: 0.972, energy_MSE: nan, energy_RMSE: 0.763\n",
      "Epoch: 1, Loss: 1.6721e+01, px_MSE: 196479.047, px_RMSE: 0.893, py_MSE: 155683.000, py_RMSE: 0.880, pz_MSE: 2154951.500, pz_RMSE: 0.928, energy_MSE: nan, energy_RMSE: 0.731\n",
      "Epoch: 2, Loss: 1.6922e+01, px_MSE: 162337.453, px_RMSE: 0.872, py_MSE: 162767.984, py_RMSE: 0.856, pz_MSE: 2500755.000, pz_RMSE: 0.941, energy_MSE: nan, energy_RMSE: 0.734\n",
      "Epoch: 3, Loss: 1.6937e+01, px_MSE: 173089.250, px_RMSE: 0.899, py_MSE: 146262.297, py_RMSE: 0.898, pz_MSE: 1391453.625, pz_RMSE: 0.940, energy_MSE: nan, energy_RMSE: 0.715\n",
      "Epoch: 4, Loss: 1.6899e+01, px_MSE: 159262.453, px_RMSE: 0.888, py_MSE: 181254.453, py_RMSE: 0.895, pz_MSE: 2328493.500, pz_RMSE: 0.926, energy_MSE: nan, energy_RMSE: 0.753\n",
      "Epoch: 5, Loss: 1.6813e+01, px_MSE: 220128.406, px_RMSE: 0.914, py_MSE: 182046.891, py_RMSE: 1.263, pz_MSE: 2600040.500, pz_RMSE: 0.922, energy_MSE: nan, energy_RMSE: 0.766\n",
      "Epoch: 6, Loss: 1.6892e+01, px_MSE: 138982.078, px_RMSE: 0.950, py_MSE: 233228.891, py_RMSE: 1.235, pz_MSE: 1525374.375, pz_RMSE: 0.942, energy_MSE: nan, energy_RMSE: 0.736\n",
      "Epoch: 7, Loss: 1.6822e+01, px_MSE: 157662.141, px_RMSE: 0.882, py_MSE: 150320.234, py_RMSE: 0.920, pz_MSE: 2893973.250, pz_RMSE: 0.916, energy_MSE: nan, energy_RMSE: 0.722\n",
      "Epoch: 8, Loss: 1.6793e+01, px_MSE: 148831.625, px_RMSE: 0.926, py_MSE: 182906.734, py_RMSE: 0.930, pz_MSE: 3469056.750, pz_RMSE: 0.957, energy_MSE: nan, energy_RMSE: 0.773\n",
      "Epoch: 9, Loss: 1.6779e+01, px_MSE: 208576.141, px_RMSE: 0.900, py_MSE: 186355.094, py_RMSE: 0.912, pz_MSE: 1543283.000, pz_RMSE: 0.933, energy_MSE: nan, energy_RMSE: 0.698\n",
      "Epoch: 10, Loss: 1.6783e+01, px_MSE: 139648.359, px_RMSE: 1.050, py_MSE: 189412.234, py_RMSE: 0.892, pz_MSE: 2285329.750, pz_RMSE: 0.962, energy_MSE: nan, energy_RMSE: 0.731\n",
      "Epoch: 11, Loss: 1.6755e+01, px_MSE: 183015.750, px_RMSE: 0.886, py_MSE: 160954.141, py_RMSE: 0.893, pz_MSE: 2422293.750, pz_RMSE: 0.961, energy_MSE: nan, energy_RMSE: 0.756\n",
      "Epoch: 12, Loss: 1.6588e+01, px_MSE: 204215.625, px_RMSE: 0.887, py_MSE: 122754.359, py_RMSE: 1.079, pz_MSE: 1491773.875, pz_RMSE: 0.915, energy_MSE: nan, energy_RMSE: 0.702\n",
      "Epoch: 13, Loss: 1.6714e+01, px_MSE: 240439.547, px_RMSE: 0.844, py_MSE: 173751.453, py_RMSE: 0.848, pz_MSE: 2882280.750, pz_RMSE: 0.930, energy_MSE: nan, energy_RMSE: 0.734\n",
      "Epoch: 14, Loss: 1.6713e+01, px_MSE: 232599.234, px_RMSE: 0.941, py_MSE: 136554.062, py_RMSE: 1.029, pz_MSE: 3662071.000, pz_RMSE: 0.938, energy_MSE: nan, energy_RMSE: 0.780\n",
      "Epoch: 15, Loss: 1.6629e+01, px_MSE: 176038.047, px_RMSE: 0.890, py_MSE: 121907.180, py_RMSE: 0.883, pz_MSE: 1759733.750, pz_RMSE: 0.917, energy_MSE: nan, energy_RMSE: 0.666\n",
      "Epoch: 16, Loss: 1.6651e+01, px_MSE: 232345.328, px_RMSE: 0.923, py_MSE: 169489.797, py_RMSE: 0.899, pz_MSE: 2885382.500, pz_RMSE: 0.934, energy_MSE: nan, energy_RMSE: 0.755\n",
      "Epoch: 17, Loss: 1.6821e+01, px_MSE: 139330.969, px_RMSE: 0.859, py_MSE: 114549.344, py_RMSE: 0.890, pz_MSE: 3475001.750, pz_RMSE: 0.915, energy_MSE: nan, energy_RMSE: 0.717\n",
      "Epoch: 18, Loss: 1.6743e+01, px_MSE: 197000.797, px_RMSE: 0.927, py_MSE: 131387.953, py_RMSE: 0.874, pz_MSE: 2258484.750, pz_RMSE: 0.950, energy_MSE: nan, energy_RMSE: 0.713\n",
      "Epoch: 19, Loss: 1.6529e+01, px_MSE: 178626.609, px_RMSE: 0.916, py_MSE: 184642.984, py_RMSE: 0.922, pz_MSE: 3763546.000, pz_RMSE: 0.927, energy_MSE: nan, energy_RMSE: 0.762\n",
      "Epoch: 20, Loss: 1.6677e+01, px_MSE: 197663.234, px_RMSE: 0.881, py_MSE: 238710.828, py_RMSE: 0.930, pz_MSE: 2621328.500, pz_RMSE: 0.978, energy_MSE: nan, energy_RMSE: 0.754\n",
      "Epoch: 21, Loss: 1.6625e+01, px_MSE: 137021.266, px_RMSE: 0.913, py_MSE: 156564.812, py_RMSE: 0.920, pz_MSE: 1430417.500, pz_RMSE: 0.905, energy_MSE: nan, energy_RMSE: 0.731\n",
      "Epoch: 22, Loss: 1.6628e+01, px_MSE: 157302.156, px_RMSE: 0.848, py_MSE: 203638.406, py_RMSE: 0.909, pz_MSE: 1307624.875, pz_RMSE: 0.881, energy_MSE: nan, energy_RMSE: 0.710\n",
      "Epoch: 23, Loss: 1.6650e+01, px_MSE: 173055.000, px_RMSE: 0.891, py_MSE: 162866.672, py_RMSE: 0.882, pz_MSE: 2053169.500, pz_RMSE: 0.946, energy_MSE: nan, energy_RMSE: 0.710\n",
      "Epoch: 24, Loss: 1.6541e+01, px_MSE: 151528.469, px_RMSE: 0.873, py_MSE: 184700.922, py_RMSE: 1.006, pz_MSE: 1234238.750, pz_RMSE: 0.971, energy_MSE: nan, energy_RMSE: 0.673\n",
      "Epoch: 25, Loss: 1.6728e+01, px_MSE: 287796.438, px_RMSE: 0.861, py_MSE: 152087.406, py_RMSE: 0.840, pz_MSE: 1599618.250, pz_RMSE: 0.955, energy_MSE: nan, energy_RMSE: 0.712\n",
      "Epoch: 26, Loss: 1.6593e+01, px_MSE: 201280.922, px_RMSE: 0.910, py_MSE: 158746.953, py_RMSE: 0.843, pz_MSE: 2242522.250, pz_RMSE: 0.930, energy_MSE: nan, energy_RMSE: 0.693\n",
      "Epoch: 27, Loss: 1.6429e+01, px_MSE: 154890.500, px_RMSE: 0.922, py_MSE: 139982.141, py_RMSE: 0.841, pz_MSE: 1649382.000, pz_RMSE: 0.922, energy_MSE: nan, energy_RMSE: 0.677\n"
     ]
    },
    {
     "name": "stderr",
     "output_type": "stream",
     "text": [
      "Exception ignored in: <function _releaseLock at 0x7f06c4659820>\n",
      "Traceback (most recent call last):\n",
      "  File \"/home/ddemler/.conda/envs/Dmitri-conda/lib/python3.8/logging/__init__.py\", line 227, in _releaseLock\n",
      "    def _releaseLock():\n",
      "KeyboardInterrupt: \n",
      "IOStream.flush timed out\n",
      "Exception ignored in: <function Socket.__del__ at 0x7f06c46a7dc0>\n",
      "Traceback (most recent call last):\n",
      "  File \"/home/ddemler/.conda/envs/Dmitri-conda/lib/python3.8/site-packages/zmq/sugar/socket.py\", line 178, in __del__\n",
      "    def __del__(self):\n",
      "KeyboardInterrupt: \n"
     ]
    },
    {
     "name": "stdout",
     "output_type": "stream",
     "text": [
      "Epoch: 28, Loss: 1.6684e+01, px_MSE: 157707.297, px_RMSE: 0.864, py_MSE: 181090.062, py_RMSE: 0.841, pz_MSE: 2674998.500, pz_RMSE: 0.873, energy_MSE: nan, energy_RMSE: 0.750\n",
      "Epoch: 29, Loss: 1.6479e+01, px_MSE: 199818.891, px_RMSE: 0.844, py_MSE: 148054.062, py_RMSE: 0.885, pz_MSE: 3214339.500, pz_RMSE: 0.898, energy_MSE: nan, energy_RMSE: 0.694\n"
     ]
    },
    {
     "name": "stdout",
     "output_type": "stream",
     "text": [
      "Epoch: 30, Loss: 1.6842e+01, px_MSE: 164177.578, px_RMSE: 0.910, py_MSE: 180510.031, py_RMSE: 1.149, pz_MSE: 2085591.875, pz_RMSE: 0.936, energy_MSE: nan, energy_RMSE: 0.702\n"
     ]
    }
   ],
   "source": [
    "epochs=1000\n",
    "\n",
    "dfpath='/home/ddemler/HNLclassifier/saved_files/fnn_featregr/single_particle/losses1.csv'\n",
    "dfcols=[\"train_loss\",\"px_mse\", \"px_rmse\", \"py_mse\", \"py_rmse\", \"pz_mse\", \"pz_rmse\", \"energy_mse\", \"energy_rmse\"]\n",
    "losses_df=pd.DataFrame(columns=dfcols)\n",
    "\n",
    "for epoch in range(epochs):\n",
    "    model.train()\n",
    "    total_loss = 0\n",
    "\n",
    "    for batch_idx, (data, target) in enumerate(train_loader):\n",
    "        data = data.to(device)\n",
    "        target = target.to(device)\n",
    "\n",
    "        optimizer.zero_grad()\n",
    "        outputs = model(data)\n",
    "\n",
    "        loss_list, loss = custom_loss(outputs, target)\n",
    "        loss.backward()\n",
    "        \n",
    "        optimizer.step()\n",
    "        total_loss += loss.item()\n",
    "\n",
    "    total_loss /= len(train_loader.dataset)\n",
    "    loss_feats=np.array(loss_list)\n",
    "\n",
    "    losses_full=np.array([total_loss]+list(loss_feats))\n",
    "\n",
    "    losses_df.loc[epoch]=losses_full\n",
    "    # print(\"loss feats before mean:\", loss_feats.shape)\n",
    "    # loss_feats=np.mean(loss_feats, axis=0)\n",
    "    # print(\"loss feats after mean:\", loss_feats.shape)\n",
    "    pd.DataFrame(losses_df).to_csv(dfpath, index=False)\n",
    "    print(\"Epoch: {}, Loss: {:.4e}, px_MSE: {:.3f}, px_RMSE: {:.3f}, py_MSE: {:.3f}, py_RMSE: {:.3f}, pz_MSE: {:.3f}, pz_RMSE: {:.3f}, energy_MSE: {:.3f}, energy_RMSE: {:.3f}\".format(epoch, total_loss*10000, loss_feats[0], loss_feats[1], loss_feats[2], loss_feats[3], loss_feats[4], loss_feats[5], loss_feats[6], loss_feats[7]))"
   ]
  },
  {
   "cell_type": "code",
   "execution_count": null,
   "metadata": {},
   "outputs": [],
   "source": []
  }
 ],
 "metadata": {
  "kernelspec": {
   "display_name": "Python 3",
   "language": "python",
   "name": "python3"
  },
  "language_info": {
   "codemirror_mode": {
    "name": "ipython",
    "version": 3
   },
   "file_extension": ".py",
   "mimetype": "text/x-python",
   "name": "python",
   "nbconvert_exporter": "python",
   "pygments_lexer": "ipython3",
   "version": "3.8.16"
  },
  "orig_nbformat": 4
 },
 "nbformat": 4,
 "nbformat_minor": 2
}
