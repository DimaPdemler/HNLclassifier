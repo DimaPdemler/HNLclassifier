{
 "cells": [
  {
   "cell_type": "code",
   "execution_count": 1,
   "metadata": {},
   "outputs": [],
   "source": [
    "import yaml\n",
    "import os"
   ]
  },
  {
   "cell_type": "code",
   "execution_count": 2,
   "metadata": {},
   "outputs": [
    {
     "name": "stdout",
     "output_type": "stream",
     "text": [
      "/home/ddemler/HNLclassifier/fnn_FeatureRegression/yamls/Aug13run2.yaml\n"
     ]
    }
   ],
   "source": [
    "yaml_name='Aug13run2.yaml'\n",
    "\n",
    "base_path = os.path.dirname(os.getcwd())\n",
    "full_path = os.path.join(base_path,'fnn_FeatureRegression','yamls', yaml_name)\n",
    "print(full_path)\n",
    "\n"
   ]
  },
  {
   "cell_type": "code",
   "execution_count": 3,
   "metadata": {},
   "outputs": [],
   "source": [
    "# activation_fn_mapping = {\n",
    "#     'relu': F.relu,\n",
    "#     'sigmoid': F.sigmoid,\n",
    "#     'tanh': F.tanh\n",
    "# }\n",
    "\n",
    "\n",
    "hidden_layers_list= [[32,42,52,64,74,82,74,64,64,50]]\n",
    "\n",
    "activation_fn_names = ['tanh']\n",
    "\n",
    "# Convert the data into a dictionary\n",
    "data = {\n",
    "    'hidden_layers_list': hidden_layers_list,\n",
    "    'activation_fn_list': activation_fn_names\n",
    "}\n",
    "\n",
    "# Write the data to a YAML file\n",
    "with open(full_path, 'w') as yaml_file:\n",
    "    yaml.dump(data, yaml_file)\n"
   ]
  }
 ],
 "metadata": {
  "kernelspec": {
   "display_name": "Python 3",
   "language": "python",
   "name": "python3"
  },
  "language_info": {
   "codemirror_mode": {
    "name": "ipython",
    "version": 3
   },
   "file_extension": ".py",
   "mimetype": "text/x-python",
   "name": "python",
   "nbconvert_exporter": "python",
   "pygments_lexer": "ipython3",
   "version": "3.8.16"
  },
  "orig_nbformat": 4
 },
 "nbformat": 4,
 "nbformat_minor": 2
}
