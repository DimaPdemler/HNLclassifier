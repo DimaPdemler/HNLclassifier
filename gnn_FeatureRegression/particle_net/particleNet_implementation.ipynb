{
 "cells": [
  {
   "cell_type": "code",
   "execution_count": null,
   "metadata": {},
   "outputs": [],
   "source": [
    "import numpy as np\n",
    "import torch\n",
    "import torch.nn as nn\n",
    "import pandas as pd\n",
    "import pickle\n",
    "from ParticleNet import *"
   ]
  },
  {
   "cell_type": "code",
   "execution_count": null,
   "metadata": {},
   "outputs": [],
   "source": [
    "pf_features_dims = 5  # features for PF particles\n",
    "sv_features_dims = 5   #  dummy features for SV particles\n",
    "num_classes = 3        # Example value: 3 classes for the output\n",
    "\n",
    "# Initialize the ParticleNetTagger model\n",
    "model = ParticleNetTagger(pf_features_dims=pf_features_dims, sv_features_dims=sv_features_dims, num_classes=num_classes)\n"
   ]
  }
 ],
 "metadata": {
  "language_info": {
   "name": "python"
  },
  "orig_nbformat": 4
 },
 "nbformat": 4,
 "nbformat_minor": 2
}
