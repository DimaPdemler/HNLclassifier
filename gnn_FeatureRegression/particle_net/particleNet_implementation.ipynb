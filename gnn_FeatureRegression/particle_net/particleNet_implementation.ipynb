{
 "cells": [
  {
   "cell_type": "code",
   "execution_count": null,
   "metadata": {},
   "outputs": [],
   "source": [
    "import numpy as np\n",
    "import torch\n",
    "import torch.nn as nn\n",
    "import pandas as pd\n",
    "import pickle\n",
    "from ParticleNetnewerversion import *"
   ]
  },
  {
   "cell_type": "code",
   "execution_count": null,
   "metadata": {},
   "outputs": [],
   "source": [
    "criterion = nn.MSELoss()\n",
    "model = ParticleNetRegressorPFOnly(pf_features_dims=5, num_outputs=NUM_KINEMATIC_FEATURES)\n",
    "optimizer = torch.optim.Adam(model.parameters(), lr=LEARNING_RATE)\n",
    "\n",
    "# Your training loop:\n",
    "for epoch in range(EPOCHS):\n",
    "    for batch in dataloader:  # Assuming you have a PyTorch DataLoader\n",
    "        pf_points, pf_features, pf_mask, targets = batch  # Assuming your DataLoader yields these\n",
    "        \n",
    "        # Forward pass:\n",
    "        outputs = model(pf_points, pf_features, pf_mask)\n",
    "        \n",
    "        # Compute loss:\n",
    "        loss = criterion(outputs, targets)\n",
    "        \n",
    "        # Backprop and optimization:\n",
    "        optimizer.zero_grad()\n",
    "        loss.backward()\n",
    "        optimizer.step()\n"
   ]
  }
 ],
 "metadata": {
  "language_info": {
   "name": "python"
  },
  "orig_nbformat": 4
 },
 "nbformat": 4,
 "nbformat_minor": 2
}
