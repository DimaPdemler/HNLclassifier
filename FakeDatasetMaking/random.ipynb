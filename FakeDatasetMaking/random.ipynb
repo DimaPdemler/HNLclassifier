{
 "cells": [
  {
   "cell_type": "code",
   "execution_count": 1,
   "metadata": {},
   "outputs": [],
   "source": [
    "import pickle\n",
    "import os\n",
    "import uproot"
   ]
  },
  {
   "cell_type": "code",
   "execution_count": 2,
   "metadata": {},
   "outputs": [],
   "source": [
    "pick_path='/home/ddemler/HNLclassifier/saved_files/fake_data/Aug10_5mil.pkl'\n",
    "\n",
    "with open(pick_path, 'rb') as f:\n",
    "    data = pickle.load(f)\n"
   ]
  },
  {
   "cell_type": "code",
   "execution_count": 3,
   "metadata": {},
   "outputs": [
    {
     "name": "stdout",
     "output_type": "stream",
     "text": [
      "22306\n"
     ]
    }
   ],
   "source": [
    "print(os.getpid())\n"
   ]
  },
  {
   "cell_type": "code",
   "execution_count": 4,
   "metadata": {},
   "outputs": [],
   "source": [
    "import pickle\n",
    "import uproot\n",
    "\n",
    "file = 'Aug10_5mil'\n",
    "input = pick_path\n",
    "output='/home/ddemler/HNLclassifier/saved_files/fake_data/roottest1.root'\n",
    "# output = f'fake_data/{file}.root'\n",
    "with open(input, 'rb') as f:\n",
    "  data = pickle.load(f)\n",
    "\n",
    "with uproot.recreate(output, compression=uproot.LZ4(4)) as out_file:\n",
    "  out_file['Events'] = data"
   ]
  },
  {
   "cell_type": "code",
   "execution_count": 2,
   "metadata": {},
   "outputs": [
    {
     "name": "stdout",
     "output_type": "stream",
     "text": [
      "22233\n"
     ]
    }
   ],
   "source": [
    "output='/home/ddemler/HNLclassifier/saved_files/fake_data/roottest1.root'\n",
    "file = uproot.open(output)\n",
    "tree = file['Events']\n",
    "data = tree.arrays(library='np', entry_start=0, entry_stop=None)"
   ]
  }
 ],
 "metadata": {
  "kernelspec": {
   "display_name": "Python 3",
   "language": "python",
   "name": "python3"
  },
  "language_info": {
   "codemirror_mode": {
    "name": "ipython",
    "version": 3
   },
   "file_extension": ".py",
   "mimetype": "text/x-python",
   "name": "python",
   "nbconvert_exporter": "python",
   "pygments_lexer": "ipython3",
   "version": "3.8.16"
  },
  "orig_nbformat": 4
 },
 "nbformat": 4,
 "nbformat_minor": 2
}
