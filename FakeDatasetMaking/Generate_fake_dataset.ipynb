{
 "cells": [
  {
   "cell_type": "markdown",
   "metadata": {},
   "source": [
    "This Python code defines and utilizes the `Data_generator` class to generate synthetic data for a physics experiment. The program then cleans up the data by removing outliers and subsequently stores the clean data in a pickle file. \n",
    "\n",
    "## Data Generation\n",
    "\n",
    "`Data_generator` is the main part of this script and is initialized with two parameters: the number of events (`numevents`) and a boolean indicating whether the generated data should be normalized or not. The synthetic data is a representation of the result of physics events involving multiple particles, where each particle is characterized by different properties such as `eta`, `mass`, `phi`, `pt`, `charge`, and `genPartFlav`.\n",
    "\n",
    "Upon initialization, `Data_generator` configures a series of functions and input variables, which are then utilized in the `generate_fake_data` method to generate synthetic data. \n",
    "\n",
    "The `generate_fake_data` method starts by creating a dictionary, `data`, with keys for each variable and empty lists as values. It then generates random data for these variables using relevant statistical distributions which are based on the physical properties being simulated. \n",
    "\n",
    "After the data has been generated, `Data_generator` includes an optional step of renaming and reordering keys in the dictionary in a more standard format, before returning the data.\n",
    "\n",
    "## Data Cleaning\n",
    "\n",
    "After generating the data, outliers are removed using the `remove_outliers` function. This function uses the limits defined in a YAML file to identify and remove the outliers in the data. \n",
    "\n",
    "## Data Storage\n",
    "\n",
    "Once the outliers have been removed, the data is then stored as a pickle file at a specified location for later use.\n",
    "\n"
   ]
  },
  {
   "cell_type": "code",
   "execution_count": 11,
   "metadata": {},
   "outputs": [],
   "source": [
    "import pickle\n",
    "import numpy as np\n",
    "from copy import deepcopy\n",
    "import sys\n",
    "sys.path.append('../utils/')\n",
    "from DD_data_extractor_git import Data_generator\n",
    "import matplotlib.pyplot as plt\n",
    "import pandas as pd\n",
    "import yaml\n",
    "import os"
   ]
  },
  {
   "cell_type": "code",
   "execution_count": 12,
   "metadata": {},
   "outputs": [
    {
     "name": "stdout",
     "output_type": "stream",
     "text": [
      "Using 19 workers\n"
     ]
    },
    {
     "name": "stderr",
     "output_type": "stream",
     "text": [
      "Collecting results: 100%|██████████| 19/19 [00:01<00:00, 14.41it/s]\n",
      "Applying functions: 50it [01:49,  2.19s/it]\n"
     ]
    }
   ],
   "source": [
    "num_events = 2000000\n",
    "Data_generator1 = Data_generator(num_events, normalize=True)\n",
    "data_dict=Data_generator1.getData()"
   ]
  },
  {
   "cell_type": "code",
   "execution_count": 13,
   "metadata": {},
   "outputs": [
    {
     "name": "stdout",
     "output_type": "stream",
     "text": [
      "2000000\n",
      "[-0.22677017  2.16314675 -2.36792007 -3.05590973 -2.26387487 -0.989072\n",
      "  1.79703848  3.02768574 -2.17145962 -0.18144251]\n"
     ]
    }
   ],
   "source": [
    "print(len(data_dict['1_phi']))\n",
    "print(data_dict['1_phi'][:10])"
   ]
  },
  {
   "cell_type": "code",
   "execution_count": 14,
   "metadata": {},
   "outputs": [],
   "source": [
    "reference_length = len(next(iter(data_dict.values())))\n",
    "for feature_name, values in data_dict.items():\n",
    "    if len(values) != reference_length:\n",
    "       print(f\"Feature '{feature_name}' has {len(values)} values, expected {reference_length}.\")\n"
   ]
  },
  {
   "cell_type": "code",
   "execution_count": 15,
   "metadata": {},
   "outputs": [
    {
     "name": "stdout",
     "output_type": "stream",
     "text": [
      "dict_keys(['event', 'genWeight', 'MET_phi', '1_phi', '1_genPartFlav', '2_phi', '2_genPartFlav', '3_phi', '3_genPartFlav', 'charge_1', 'charge_2', 'charge_3', 'pt_1', 'pt_2', 'pt_3', 'pt_MET', 'eta_1', 'eta_2', 'eta_3', 'mass_1', 'mass_2', 'mass_3', 'deltaphi_12', 'deltaphi_13', 'deltaphi_23', 'deltaphi_1MET', 'deltaphi_2MET', 'deltaphi_3MET', 'deltaphi_1(23)', 'deltaphi_2(13)', 'deltaphi_3(12)', 'deltaphi_MET(12)', 'deltaphi_MET(13)', 'deltaphi_MET(23)', 'deltaphi_1(2MET)', 'deltaphi_1(3MET)', 'deltaphi_2(1MET)', 'deltaphi_2(3MET)', 'deltaphi_3(1MET)', 'deltaphi_3(2MET)', 'deltaeta_12', 'deltaeta_13', 'deltaeta_23', 'deltaeta_1(23)', 'deltaeta_2(13)', 'deltaeta_3(12)', 'deltaR_12', 'deltaR_13', 'deltaR_23', 'deltaR_1(23)', 'deltaR_2(13)', 'deltaR_3(12)', 'pt_123', 'mt_12', 'mt_13', 'mt_23', 'mt_1MET', 'mt_2MET', 'mt_3MET', 'mt_1(23)', 'mt_2(13)', 'mt_3(12)', 'mt_MET(12)', 'mt_MET(13)', 'mt_MET(23)', 'mt_1(2MET)', 'mt_1(3MET)', 'mt_2(1MET)', 'mt_2(3MET)', 'mt_3(1MET)', 'mt_3(2MET)', 'mass_12', 'mass_13', 'mass_23', 'mass_123', 'Mt_tot', 'HNL_CM_angle_with_MET_1', 'HNL_CM_angle_with_MET_2', 'W_CM_angle_to_plane_1', 'W_CM_angle_to_plane_2', 'W_CM_angle_to_plane_with_MET_1', 'W_CM_angle_to_plane_with_MET_2', 'HNL_CM_mass_1', 'HNL_CM_mass_2', 'HNL_CM_mass_with_MET_1', 'HNL_CM_mass_with_MET_2', 'W_CM_angle_12', 'W_CM_angle_13', 'W_CM_angle_23', 'W_CM_angle_1MET', 'W_CM_angle_2MET', 'W_CM_angle_3MET', 'n_tauh', 'norm_mt_1(23)', 'norm_mt_2(13)', 'norm_mt_3(12)', 'norm_mt_MET(12)', 'norm_mt_MET(13)', 'norm_mt_MET(23)', 'norm_mt_1(2MET)', 'norm_mt_1(3MET)', 'norm_mt_2(1MET)', 'norm_mt_2(3MET)', 'norm_mt_3(1MET)', 'norm_mt_3(2MET)', 'norm_mt_12', 'norm_mt_13', 'norm_mt_23'])\n",
      "1135213\n"
     ]
    }
   ],
   "source": [
    "def compute_percentiles_from_pickle(filename):\n",
    "    with open(filename, 'rb') as f:\n",
    "        raw_data_dict = pickle.load(f)\n",
    "    \n",
    "    numeric_data_dict = {k: v for k, v in raw_data_dict.items() if (k not in dontremove_outliers) and np.issubdtype(type(v[0]), np.number)}\n",
    "\n",
    "    # Compute the required percentiles for each numeric feature\n",
    "    lower_percentiles = {k: np.percentile(v, 0.03) for k, v in numeric_data_dict.items()}\n",
    "    upper_percentiles = {k: np.percentile(v, 99.7) for k, v in numeric_data_dict.items()}\n",
    "\n",
    "    return lower_percentiles, upper_percentiles\n",
    "\n",
    "def remove_outliers(data, lower_percentiles, upper_percentiles):\n",
    "    outlier_mask = np.zeros(len(next(iter(data.values()))), dtype=bool)\n",
    "    for feature_name, values in data.items():\n",
    "        if (feature_name not in dontremove_outliers) and (feature_name in lower_percentiles):\n",
    "            lower_value = lower_percentiles[feature_name]\n",
    "            upper_value = upper_percentiles[feature_name]\n",
    "            feature_outlier_mask = (np.array(values) < lower_value) | (np.array(values) > upper_value)\n",
    "            outlier_mask |= feature_outlier_mask  # update the outlier mask\n",
    "    \n",
    "    # Remove rows with outliers from all features in the data dictionary\n",
    "    cleaned_data = {k: np.array(v)[~outlier_mask].tolist() for k, v in data.items()}\n",
    "    return cleaned_data\n",
    "\n",
    "base_path = os.path.dirname(os.getcwd())\n",
    "raw_data_pickle_file = os.path.join(base_path, 'saved_files', 'extracted_data', 'TEST10_data_Aug3')\n",
    "dontremove_outliers=['event', 'genWeight', 'MET_phi', '1_phi', '1_genPartFlav', '2_phi', '2_genPartFlav', '3_phi', '3_genPartFlav', 'charge_1', 'charge_2', 'charge_3', 'pt_1', 'pt_2', 'pt_3', 'pt_MET', 'eta_1', 'eta_2', 'eta_3', 'mass_1', 'mass_2', 'mass_3']\n",
    "lower_percentiles, upper_percentiles = compute_percentiles_from_pickle(raw_data_pickle_file)\n",
    "\n",
    "data_dictcopy = deepcopy(data_dict)\n",
    "data_dict_removed_outliers2 = remove_outliers(data_dictcopy, lower_percentiles, upper_percentiles)\n",
    "\n",
    "print(data_dict_removed_outliers2.keys())\n",
    "print(len(data_dict_removed_outliers2['mass_12']))"
   ]
  },
  {
   "cell_type": "code",
   "execution_count": 10,
   "metadata": {},
   "outputs": [
    {
     "name": "stdout",
     "output_type": "stream",
     "text": [
      "[222.91184415029005, 94.67291038905961, 332.31630771867475, 142.60057981314216, 66.3575279707401, 196.29616791155817, 282.3419453930044, 284.8550325761306, 195.4833241103937, 162.43686873496284, 85.46821201493785, 146.1409672672796, 175.63286117525166, 100.78825555197156, 151.46961410296717, 98.87408091809667, 148.84611376017648, 81.40417501052714, 40.99751822809804, 74.76296397811251, 129.99882358746353, 137.8105922999336, 159.05824064317542, 230.639832393913, 133.0559658989557, 92.00831021210304, 117.25428916799096, 23.14147945460032, 112.02488074812263, 140.6992989773038]\n",
      "<class 'dict'>\n",
      "   event  genWeight   MET_phi     1_phi  1_genPartFlav     2_phi  \\\n",
      "0   8297   0.595798 -2.374731 -0.226770              1  2.792510   \n",
      "1   3159  -0.903095  1.383645  2.163147              1  1.070950   \n",
      "2   5570  -0.432716  0.963632 -2.367920              3  0.083417   \n",
      "3    203  -0.756514 -1.090332 -2.263875              1  2.124214   \n",
      "4   5513  -0.906506  2.771565  1.797038              3 -0.708782   \n",
      "\n",
      "   2_genPartFlav     3_phi  3_genPartFlav  charge_1  ...  norm_mt_MET(23)  \\\n",
      "0              1  0.804537              1         1  ...     1.957261e-06   \n",
      "1              1  0.958545              1         1  ...     2.989109e-07   \n",
      "2              3  2.168706              4        -1  ...     4.629481e-07   \n",
      "3              1  0.094401              2        -1  ...     9.290836e-08   \n",
      "4              3 -0.388325              4         1  ...     3.013064e-07   \n",
      "\n",
      "   norm_mt_1(2MET)  norm_mt_1(3MET)  norm_mt_2(1MET)  norm_mt_2(3MET)  \\\n",
      "0     2.558622e-06     3.579799e-07     1.192566e-07     4.578107e-07   \n",
      "1     7.936287e-07     8.528653e-07     7.434764e-07     9.101217e-08   \n",
      "2     7.176290e-07     7.834288e-07     1.987673e-06     7.814089e-07   \n",
      "3     7.853075e-07     1.499686e-06     9.558309e-07     1.391411e-06   \n",
      "4     5.053525e-07     1.824089e-06     6.309445e-07     3.197435e-07   \n",
      "\n",
      "   norm_mt_3(1MET)  norm_mt_3(2MET)  norm_mt_12    norm_mt_13    norm_mt_23  \n",
      "0     4.850063e-07     1.792417e-06    0.000003  6.231535e-07  1.958809e-06  \n",
      "1     8.008943e-07     9.137523e-08    0.000001  1.230623e-06  1.290186e-07  \n",
      "2     1.606537e-06     9.262890e-07    0.000003  1.946756e-06  1.475104e-06  \n",
      "3     8.889177e-07     7.732090e-07    0.000001  2.255507e-06  1.847344e-06  \n",
      "4     5.822182e-07     1.609347e-07    0.000001  2.140734e-06  3.587108e-07  \n",
      "\n",
      "[5 rows x 108 columns]\n"
     ]
    }
   ],
   "source": [
    "print(data_dict_removed_outliers2['mass_12'][:30])\n",
    "print(type(data_dict_removed_outliers2))\n",
    "df=pd.DataFrame(data_dict_removed_outliers2)\n",
    "print(df.head())"
   ]
  },
  {
   "cell_type": "code",
   "execution_count": 7,
   "metadata": {},
   "outputs": [
    {
     "name": "stdout",
     "output_type": "stream",
     "text": [
      "dict_keys(['event', 'genWeight', 'MET_phi', '1_phi', '1_genPartFlav', '2_phi', '2_genPartFlav', '3_phi', '3_genPartFlav', 'charge_1', 'charge_2', 'charge_3', 'pt_1', 'pt_2', 'pt_3', 'pt_MET', 'eta_1', 'eta_2', 'eta_3', 'mass_1', 'mass_2', 'mass_3', 'deltaphi_12', 'deltaphi_13', 'deltaphi_23', 'deltaphi_1MET', 'deltaphi_2MET', 'deltaphi_3MET', 'deltaphi_1(23)', 'deltaphi_2(13)', 'deltaphi_3(12)', 'deltaphi_MET(12)', 'deltaphi_MET(13)', 'deltaphi_MET(23)', 'deltaphi_1(2MET)', 'deltaphi_1(3MET)', 'deltaphi_2(1MET)', 'deltaphi_2(3MET)', 'deltaphi_3(1MET)', 'deltaphi_3(2MET)', 'deltaeta_12', 'deltaeta_13', 'deltaeta_23', 'deltaeta_1(23)', 'deltaeta_2(13)', 'deltaeta_3(12)', 'deltaR_12', 'deltaR_13', 'deltaR_23', 'deltaR_1(23)', 'deltaR_2(13)', 'deltaR_3(12)', 'pt_123', 'mt_12', 'mt_13', 'mt_23', 'mt_1MET', 'mt_2MET', 'mt_3MET', 'mt_1(23)', 'mt_2(13)', 'mt_3(12)', 'mt_MET(12)', 'mt_MET(13)', 'mt_MET(23)', 'mt_1(2MET)', 'mt_1(3MET)', 'mt_2(1MET)', 'mt_2(3MET)', 'mt_3(1MET)', 'mt_3(2MET)', 'mass_12', 'mass_13', 'mass_23', 'mass_123', 'Mt_tot', 'HNL_CM_angle_with_MET_1', 'HNL_CM_angle_with_MET_2', 'W_CM_angle_to_plane_1', 'W_CM_angle_to_plane_2', 'W_CM_angle_to_plane_with_MET_1', 'W_CM_angle_to_plane_with_MET_2', 'HNL_CM_mass_1', 'HNL_CM_mass_2', 'HNL_CM_mass_with_MET_1', 'HNL_CM_mass_with_MET_2', 'W_CM_angle_12', 'W_CM_angle_13', 'W_CM_angle_23', 'W_CM_angle_1MET', 'W_CM_angle_2MET', 'W_CM_angle_3MET', 'n_tauh', 'norm_mt_1(23)', 'norm_mt_2(13)', 'norm_mt_3(12)', 'norm_mt_MET(12)', 'norm_mt_MET(13)', 'norm_mt_MET(23)', 'norm_mt_1(2MET)', 'norm_mt_1(3MET)', 'norm_mt_2(1MET)', 'norm_mt_2(3MET)', 'norm_mt_3(1MET)', 'norm_mt_3(2MET)', 'norm_mt_12', 'norm_mt_13', 'norm_mt_23'])\n",
      "114306\n"
     ]
    }
   ],
   "source": [
    "base_path = os.path.dirname(os.getcwd())\n",
    "folder = \"fake_data\"\n",
    "\n",
    "full_folder_path = os.path.join(base_path,\"saved_files\", folder)\n",
    "\n",
    "os.makedirs(full_folder_path, exist_ok=True)\n",
    "\n",
    "filename = \"Aug17_10mil.pkl\"\n",
    "\n",
    "full_file_path = os.path.join(full_folder_path, filename)\n",
    "\n",
    "with open(full_file_path, 'wb') as f:\n",
    "    pickle.dump(data_dict_removed_outliers2, f)\n",
    "\n",
    "\n",
    "print(data_dict_removed_outliers2.keys())\n",
    "print(len(data_dict_removed_outliers2['mass_12']))"
   ]
  },
  {
   "cell_type": "code",
   "execution_count": null,
   "metadata": {},
   "outputs": [],
   "source": []
  }
 ],
 "metadata": {
  "kernelspec": {
   "display_name": "Python 3",
   "language": "python",
   "name": "python3"
  },
  "language_info": {
   "codemirror_mode": {
    "name": "ipython",
    "version": 3
   },
   "file_extension": ".py",
   "mimetype": "text/x-python",
   "name": "python",
   "nbconvert_exporter": "python",
   "pygments_lexer": "ipython3",
   "version": "3.8.16"
  },
  "orig_nbformat": 4
 },
 "nbformat": 4,
 "nbformat_minor": 2
}
