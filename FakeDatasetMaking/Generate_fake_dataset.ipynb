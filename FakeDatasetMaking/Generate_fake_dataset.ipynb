{
 "cells": [
  {
   "cell_type": "markdown",
   "metadata": {},
   "source": [
    "This Python code defines and utilizes the `Data_generator` class to generate synthetic data for a physics experiment. The program then cleans up the data by removing outliers and subsequently stores the clean data in a pickle file. \n",
    "\n",
    "## Data Generation\n",
    "\n",
    "`Data_generator` is the main part of this script and is initialized with two parameters: the number of events (`numevents`) and a boolean indicating whether the generated data should be normalized or not. The synthetic data is a representation of the result of physics events involving multiple particles, where each particle is characterized by different properties such as `eta`, `mass`, `phi`, `pt`, `charge`, and `genPartFlav`.\n",
    "\n",
    "Upon initialization, `Data_generator` configures a series of functions and input variables, which are then utilized in the `generate_fake_data` method to generate synthetic data. \n",
    "\n",
    "The `generate_fake_data` method starts by creating a dictionary, `data`, with keys for each variable and empty lists as values. It then generates random data for these variables using relevant statistical distributions which are based on the physical properties being simulated. \n",
    "\n",
    "After the data has been generated, `Data_generator` includes an optional step of renaming and reordering keys in the dictionary in a more standard format, before returning the data.\n",
    "\n",
    "## Data Cleaning\n",
    "\n",
    "After generating the data, outliers are removed using the `remove_outliers` function. This function uses the limits defined in a YAML file to identify and remove the outliers in the data. \n",
    "\n",
    "## Data Storage\n",
    "\n",
    "Once the outliers have been removed, the data is then stored as a pickle file at a specified location for later use.\n",
    "\n"
   ]
  },
  {
   "cell_type": "code",
   "execution_count": 14,
   "metadata": {},
   "outputs": [],
   "source": [
    "import pickle\n",
    "import numpy as np\n",
    "from copy import deepcopy\n",
    "import sys\n",
    "sys.path.append('../utils/')\n",
    "from DD_data_extractor_git import Data_generator, remove_outliers\n",
    "import matplotlib.pyplot as plt\n",
    "import pandas as pd\n",
    "import yaml\n",
    "import os"
   ]
  },
  {
   "cell_type": "code",
   "execution_count": 15,
   "metadata": {},
   "outputs": [],
   "source": [
    "num_events = 1000000\n",
    "Data_generator1 = Data_generator(num_events, normalize=True)\n",
    "data_dict=Data_generator1.getData()"
   ]
  },
  {
   "cell_type": "code",
   "execution_count": 24,
   "metadata": {},
   "outputs": [
    {
     "name": "stdout",
     "output_type": "stream",
     "text": [
      "dict_keys(['event', 'genWeight', 'MET_phi', '1_phi', '1_genPartFlav', '2_phi', '2_genPartFlav', '3_phi', '3_genPartFlav', 'charge_1', 'charge_2', 'charge_3', 'pt_1', 'pt_2', 'pt_3', 'pt_MET', 'eta_1', 'eta_2', 'eta_3', 'mass_1', 'mass_2', 'mass_3', 'deltaphi_12', 'deltaphi_13', 'deltaphi_23', 'deltaphi_1MET', 'deltaphi_2MET', 'deltaphi_3MET', 'deltaphi_1(23)', 'deltaphi_2(13)', 'deltaphi_3(12)', 'deltaphi_MET(12)', 'deltaphi_MET(13)', 'deltaphi_MET(23)', 'deltaphi_1(2MET)', 'deltaphi_1(3MET)', 'deltaphi_2(1MET)', 'deltaphi_2(3MET)', 'deltaphi_3(1MET)', 'deltaphi_3(2MET)', 'deltaeta_12', 'deltaeta_13', 'deltaeta_23', 'deltaeta_1(23)', 'deltaeta_2(13)', 'deltaeta_3(12)', 'deltaR_12', 'deltaR_13', 'deltaR_23', 'deltaR_1(23)', 'deltaR_2(13)', 'deltaR_3(12)', 'pt_123', 'mt_12', 'mt_13', 'mt_23', 'mt_1MET', 'mt_2MET', 'mt_3MET', 'mt_1(23)', 'mt_2(13)', 'mt_3(12)', 'mt_MET(12)', 'mt_MET(13)', 'mt_MET(23)', 'mt_1(2MET)', 'mt_1(3MET)', 'mt_2(1MET)', 'mt_2(3MET)', 'mt_3(1MET)', 'mt_3(2MET)', 'mass_12', 'mass_13', 'mass_23', 'mass_123', 'Mt_tot', 'HNL_CM_angle_with_MET_1', 'HNL_CM_angle_with_MET_2', 'W_CM_angle_to_plane_1', 'W_CM_angle_to_plane_2', 'W_CM_angle_to_plane_with_MET_1', 'W_CM_angle_to_plane_with_MET_2', 'HNL_CM_mass_1', 'HNL_CM_mass_2', 'HNL_CM_mass_with_MET_1', 'HNL_CM_mass_with_MET_2', 'W_CM_angle_12', 'W_CM_angle_13', 'W_CM_angle_23', 'W_CM_angle_1MET', 'W_CM_angle_2MET', 'W_CM_angle_3MET', 'n_tauh', 'norm_mt_1(23)', 'norm_mt_2(13)', 'norm_mt_3(12)', 'norm_mt_MET(12)', 'norm_mt_MET(13)', 'norm_mt_MET(23)', 'norm_mt_1(2MET)', 'norm_mt_1(3MET)', 'norm_mt_2(1MET)', 'norm_mt_2(3MET)', 'norm_mt_3(1MET)', 'norm_mt_3(2MET)', 'norm_mt_12', 'norm_mt_13', 'norm_mt_23'])\n",
      "568554\n"
     ]
    }
   ],
   "source": [
    "dontremove=['event', 'genWeight', 'MET_phi', '1_phi', '1_genPartFlav', '2_phi', '2_genPartFlav', '3_phi', '3_genPartFlav', 'charge_1', 'charge_2', 'charge_3', 'pt_1', 'pt_2', 'pt_3', 'pt_MET', 'eta_1', 'eta_2', 'eta_3', 'mass_1', 'mass_2', 'mass_3']\n",
    "\n",
    "def compute_percentiles_from_pickle(filename):\n",
    "    with open(filename, 'rb') as f:\n",
    "        raw_data_dict = pickle.load(f)\n",
    "    \n",
    "    # Only keep numeric data for computing percentiles\n",
    "    numeric_data_dict = {k: v for k, v in raw_data_dict.items() if (k not in dontremove) and np.issubdtype(type(v[0]), np.number)}\n",
    "\n",
    "    # Compute the required percentiles for each numeric feature\n",
    "    lower_percentiles = {k: np.percentile(v, 0.03) for k, v in numeric_data_dict.items()}\n",
    "    upper_percentiles = {k: np.percentile(v, 99.7) for k, v in numeric_data_dict.items()}\n",
    "\n",
    "    return lower_percentiles, upper_percentiles\n",
    "\n",
    "def remove_outliers(data, lower_percentiles, upper_percentiles):\n",
    "    outlier_mask = np.zeros(len(next(iter(data.values()))), dtype=bool)\n",
    "    for feature_name, values in data.items():\n",
    "        if (feature_name not in dontremove) and (feature_name in lower_percentiles):\n",
    "            lower_value = lower_percentiles[feature_name]\n",
    "            upper_value = upper_percentiles[feature_name]\n",
    "            feature_outlier_mask = (np.array(values) < lower_value) | (np.array(values) > upper_value)\n",
    "            outlier_mask |= feature_outlier_mask  # update the outlier mask\n",
    "    \n",
    "    # Remove rows with outliers from all features in the data dictionary\n",
    "    cleaned_data = {k: np.array(v)[~outlier_mask].tolist() for k, v in data.items()}\n",
    "    return cleaned_data\n",
    "\n",
    "base_path = os.path.dirname(os.getcwd())\n",
    "raw_data_pickle_file = os.path.join(base_path, 'saved_files', 'extracted_data', 'TEST10_data_Aug3')\n",
    "lower_percentiles, upper_percentiles = compute_percentiles_from_pickle(raw_data_pickle_file)\n",
    "\n",
    "# Clean the data using the computed percentiles\n",
    "data_dictcopy = deepcopy(data_dict)\n",
    "dontremove=['event', 'genWeight', 'MET_phi', '1_phi', '1_genPartFlav', '2_phi', '2_genPartFlav', '3_phi', '3_genPartFlav', 'charge_1', 'charge_2', 'charge_3', 'pt_1', 'pt_2', 'pt_3', 'pt_MET', 'eta_1', 'eta_2', 'eta_3', 'mass_1', 'mass_2', 'mass_3']\n",
    "data_dict_removed_outliers2 = remove_outliers(data_dictcopy, lower_percentiles, upper_percentiles)\n",
    "\n",
    "print(data_dict_removed_outliers2.keys())\n",
    "print(len(data_dict_removed_outliers2['mass_12']))\n",
    "\n",
    "\n"
   ]
  },
  {
   "cell_type": "code",
   "execution_count": 26,
   "metadata": {},
   "outputs": [
    {
     "name": "stdout",
     "output_type": "stream",
     "text": [
      "[204.78282406230724, 166.60368762492823, 135.62063535180891, 46.799272492964775, 54.70412659760397, 95.41162657975659, 111.28244746765657, 108.8324733503408, 134.76179836610868, 158.957530687228, 109.00180328338833, 111.94031088278827, 358.0765860838046, 64.84879529379323, 129.54302075381725, 111.07950802677978, 95.12210493585242, 255.97920452168455, 202.64977429530165, 32.197242502854195, 339.0597209930635, 161.55548099662215, 69.32909428645257, 71.67399560054763, 99.39963096628078, 59.77482468669274, 233.67119057681106, 188.26522758861708, 173.9217931661431, 97.00369030991638]\n"
     ]
    }
   ],
   "source": [
    "print(data_dict_removed_outliers2['mass_12'][:30])"
   ]
  },
  {
   "cell_type": "code",
   "execution_count": 27,
   "metadata": {},
   "outputs": [
    {
     "name": "stdout",
     "output_type": "stream",
     "text": [
      "dict_keys(['event', 'genWeight', 'MET_phi', '1_phi', '1_genPartFlav', '2_phi', '2_genPartFlav', '3_phi', '3_genPartFlav', 'charge_1', 'charge_2', 'charge_3', 'pt_1', 'pt_2', 'pt_3', 'pt_MET', 'eta_1', 'eta_2', 'eta_3', 'mass_1', 'mass_2', 'mass_3', 'deltaphi_12', 'deltaphi_13', 'deltaphi_23', 'deltaphi_1MET', 'deltaphi_2MET', 'deltaphi_3MET', 'deltaphi_1(23)', 'deltaphi_2(13)', 'deltaphi_3(12)', 'deltaphi_MET(12)', 'deltaphi_MET(13)', 'deltaphi_MET(23)', 'deltaphi_1(2MET)', 'deltaphi_1(3MET)', 'deltaphi_2(1MET)', 'deltaphi_2(3MET)', 'deltaphi_3(1MET)', 'deltaphi_3(2MET)', 'deltaeta_12', 'deltaeta_13', 'deltaeta_23', 'deltaeta_1(23)', 'deltaeta_2(13)', 'deltaeta_3(12)', 'deltaR_12', 'deltaR_13', 'deltaR_23', 'deltaR_1(23)', 'deltaR_2(13)', 'deltaR_3(12)', 'pt_123', 'mt_12', 'mt_13', 'mt_23', 'mt_1MET', 'mt_2MET', 'mt_3MET', 'mt_1(23)', 'mt_2(13)', 'mt_3(12)', 'mt_MET(12)', 'mt_MET(13)', 'mt_MET(23)', 'mt_1(2MET)', 'mt_1(3MET)', 'mt_2(1MET)', 'mt_2(3MET)', 'mt_3(1MET)', 'mt_3(2MET)', 'mass_12', 'mass_13', 'mass_23', 'mass_123', 'Mt_tot', 'HNL_CM_angle_with_MET_1', 'HNL_CM_angle_with_MET_2', 'W_CM_angle_to_plane_1', 'W_CM_angle_to_plane_2', 'W_CM_angle_to_plane_with_MET_1', 'W_CM_angle_to_plane_with_MET_2', 'HNL_CM_mass_1', 'HNL_CM_mass_2', 'HNL_CM_mass_with_MET_1', 'HNL_CM_mass_with_MET_2', 'W_CM_angle_12', 'W_CM_angle_13', 'W_CM_angle_23', 'W_CM_angle_1MET', 'W_CM_angle_2MET', 'W_CM_angle_3MET', 'n_tauh', 'norm_mt_1(23)', 'norm_mt_2(13)', 'norm_mt_3(12)', 'norm_mt_MET(12)', 'norm_mt_MET(13)', 'norm_mt_MET(23)', 'norm_mt_1(2MET)', 'norm_mt_1(3MET)', 'norm_mt_2(1MET)', 'norm_mt_2(3MET)', 'norm_mt_3(1MET)', 'norm_mt_3(2MET)', 'norm_mt_12', 'norm_mt_13', 'norm_mt_23'])\n",
      "568554\n"
     ]
    }
   ],
   "source": [
    "base_path = os.path.dirname(os.getcwd())\n",
    "folder = \"fake_data\"\n",
    "\n",
    "full_folder_path = os.path.join(base_path,\"saved_files\", folder)\n",
    "\n",
    "os.makedirs(full_folder_path, exist_ok=True)\n",
    "\n",
    "filename = \"Aug7_1mil.pkl\"\n",
    "\n",
    "full_file_path = os.path.join(full_folder_path, filename)\n",
    "\n",
    "with open(full_file_path, 'wb') as f:\n",
    "    pickle.dump(data_dict_removed_outliers2, f)\n",
    "\n",
    "\n",
    "print(data_dict_removed_outliers2.keys())\n",
    "print(len(data_dict_removed_outliers2['mass_12']))"
   ]
  }
 ],
 "metadata": {
  "kernelspec": {
   "display_name": "Python 3",
   "language": "python",
   "name": "python3"
  },
  "language_info": {
   "codemirror_mode": {
    "name": "ipython",
    "version": 3
   },
   "file_extension": ".py",
   "mimetype": "text/x-python",
   "name": "python",
   "nbconvert_exporter": "python",
   "pygments_lexer": "ipython3",
   "version": "3.8.16"
  },
  "orig_nbformat": 4
 },
 "nbformat": 4,
 "nbformat_minor": 2
}
